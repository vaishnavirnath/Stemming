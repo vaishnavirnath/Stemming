{
  "nbformat": 4,
  "nbformat_minor": 0,
  "metadata": {
    "colab": {
      "name": "Stemming.ipynb",
      "provenance": []
    },
    "kernelspec": {
      "name": "python3",
      "display_name": "Python 3"
    },
    "language_info": {
      "name": "python"
    }
  },
  "cells": [
    {
      "cell_type": "code",
      "execution_count": null,
      "metadata": {
        "id": "ETQsCxzeWLWX"
      },
      "outputs": [],
      "source": [
        "from nltk.stem import PorterStemmer\n",
        "porter=PorterStemmer()"
      ]
    },
    {
      "cell_type": "code",
      "source": [
        "l=['connect','connects','connecting']\n",
        "\n",
        "for word in l:\n",
        "  print(porter.stem(word))"
      ],
      "metadata": {
        "colab": {
          "base_uri": "https://localhost:8080/"
        },
        "id": "i4lkQo8VXVbu",
        "outputId": "83f465c9-8295-4592-80ec-702411aa7877"
      },
      "execution_count": null,
      "outputs": [
        {
          "output_type": "stream",
          "name": "stdout",
          "text": [
            "connect\n",
            "connect\n",
            "connect\n"
          ]
        }
      ]
    },
    {
      "cell_type": "code",
      "source": [
        "from nltk.stem import PorterStemmer\n",
        "porter=PorterStemmer()\n",
        "\n",
        "l=['complete','completed','completing']\n",
        "for word in l:\n",
        "  print(porter.stem(word))"
      ],
      "metadata": {
        "colab": {
          "base_uri": "https://localhost:8080/"
        },
        "id": "Gm_q2dOLYgPP",
        "outputId": "12a0483d-4de0-461e-ec18-875f481bc9d0"
      },
      "execution_count": null,
      "outputs": [
        {
          "output_type": "stream",
          "name": "stdout",
          "text": [
            "complet\n",
            "complet\n",
            "complet\n"
          ]
        }
      ]
    },
    {
      "cell_type": "code",
      "source": [
        "from nltk.stem import SnowballStemmer\n",
        "snow=SnowballStemmer(language='english')\n",
        "\n",
        "l=['eaten','eats','eating']\n",
        "\n",
        "for i in l:\n",
        "  print(snow.stem(i))"
      ],
      "metadata": {
        "colab": {
          "base_uri": "https://localhost:8080/"
        },
        "id": "bEwDpxPcamDv",
        "outputId": "57f31aad-87b4-438b-e55f-295e0110c842"
      },
      "execution_count": null,
      "outputs": [
        {
          "output_type": "stream",
          "name": "stdout",
          "text": [
            "eaten\n",
            "eat\n",
            "eat\n"
          ]
        }
      ]
    },
    {
      "cell_type": "code",
      "source": [
        "from nltk.stem import LancasterStemmer\n",
        "lancster=LancasterStemmer()\n",
        "\n",
        "L=['eat','eating','eaten','puts','put']\n",
        "for i in L:\n",
        "  print(lancster.stem(i))"
      ],
      "metadata": {
        "colab": {
          "base_uri": "https://localhost:8080/"
        },
        "id": "QZXNiddpbrn1",
        "outputId": "0ab9ca6f-7c64-486c-df83-40a9443a05b7"
      },
      "execution_count": null,
      "outputs": [
        {
          "output_type": "stream",
          "name": "stdout",
          "text": [
            "eat\n",
            "eat\n",
            "eat\n",
            "put\n",
            "put\n"
          ]
        }
      ]
    },
    {
      "cell_type": "code",
      "source": [
        "from nltk.stem import RegexpStemmer\n",
        "regexp=RegexpStemmer('ing$|e$|ed$|able$')\n",
        "\n",
        "l=['eating','adjustable','teased']\n",
        "for i in l:\n",
        "  print(regexp.stem(i))"
      ],
      "metadata": {
        "colab": {
          "base_uri": "https://localhost:8080/"
        },
        "id": "NgHisRxldD-8",
        "outputId": "d2e16563-9143-43ff-ca4e-98f1b12ad57f"
      },
      "execution_count": null,
      "outputs": [
        {
          "output_type": "stream",
          "name": "stdout",
          "text": [
            "eat\n",
            "adjust\n",
            "teas\n"
          ]
        }
      ]
    },
    {
      "cell_type": "code",
      "source": [
        ""
      ],
      "metadata": {
        "id": "k0Jncc3_eZHc"
      },
      "execution_count": null,
      "outputs": []
    }
  ]
}